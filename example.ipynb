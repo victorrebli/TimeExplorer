{
 "cells": [
  {
   "cell_type": "code",
   "execution_count": 1,
   "metadata": {},
   "outputs": [],
   "source": [
    "import pandas as pd\n",
    "import numpy as np\n",
    "from run import TimeExplorer"
   ]
  },
  {
   "cell_type": "code",
   "execution_count": 2,
   "metadata": {},
   "outputs": [],
   "source": [
    "data = pd.read_csv('data/train.csv')"
   ]
  },
  {
   "cell_type": "code",
   "execution_count": 3,
   "metadata": {},
   "outputs": [],
   "source": [
    "X_train = data.drop(['species', 'id'], axis=1)"
   ]
  },
  {
   "cell_type": "code",
   "execution_count": 4,
   "metadata": {},
   "outputs": [
    {
     "data": {
      "text/html": [
       "<div>\n",
       "<style scoped>\n",
       "    .dataframe tbody tr th:only-of-type {\n",
       "        vertical-align: middle;\n",
       "    }\n",
       "\n",
       "    .dataframe tbody tr th {\n",
       "        vertical-align: top;\n",
       "    }\n",
       "\n",
       "    .dataframe thead th {\n",
       "        text-align: right;\n",
       "    }\n",
       "</style>\n",
       "<table border=\"1\" class=\"dataframe\">\n",
       "  <thead>\n",
       "    <tr style=\"text-align: right;\">\n",
       "      <th></th>\n",
       "      <th>margin1</th>\n",
       "      <th>margin2</th>\n",
       "      <th>margin3</th>\n",
       "      <th>margin4</th>\n",
       "      <th>margin5</th>\n",
       "      <th>margin6</th>\n",
       "      <th>margin7</th>\n",
       "      <th>margin8</th>\n",
       "      <th>margin9</th>\n",
       "      <th>margin10</th>\n",
       "      <th>...</th>\n",
       "      <th>texture55</th>\n",
       "      <th>texture56</th>\n",
       "      <th>texture57</th>\n",
       "      <th>texture58</th>\n",
       "      <th>texture59</th>\n",
       "      <th>texture60</th>\n",
       "      <th>texture61</th>\n",
       "      <th>texture62</th>\n",
       "      <th>texture63</th>\n",
       "      <th>texture64</th>\n",
       "    </tr>\n",
       "  </thead>\n",
       "  <tbody>\n",
       "    <tr>\n",
       "      <th>0</th>\n",
       "      <td>0.007812</td>\n",
       "      <td>0.023438</td>\n",
       "      <td>0.023438</td>\n",
       "      <td>0.003906</td>\n",
       "      <td>0.011719</td>\n",
       "      <td>0.009766</td>\n",
       "      <td>0.027344</td>\n",
       "      <td>0.0</td>\n",
       "      <td>0.001953</td>\n",
       "      <td>0.033203</td>\n",
       "      <td>...</td>\n",
       "      <td>0.007812</td>\n",
       "      <td>0.0</td>\n",
       "      <td>0.00293</td>\n",
       "      <td>0.00293</td>\n",
       "      <td>0.035156</td>\n",
       "      <td>0.0</td>\n",
       "      <td>0.0</td>\n",
       "      <td>0.004883</td>\n",
       "      <td>0.0</td>\n",
       "      <td>0.025391</td>\n",
       "    </tr>\n",
       "  </tbody>\n",
       "</table>\n",
       "<p>1 rows × 192 columns</p>\n",
       "</div>"
      ],
      "text/plain": [
       "    margin1   margin2   margin3   margin4   margin5   margin6   margin7  \\\n",
       "0  0.007812  0.023438  0.023438  0.003906  0.011719  0.009766  0.027344   \n",
       "\n",
       "   margin8   margin9  margin10  ...  texture55  texture56  texture57  \\\n",
       "0      0.0  0.001953  0.033203  ...   0.007812        0.0    0.00293   \n",
       "\n",
       "   texture58  texture59  texture60  texture61  texture62  texture63  texture64  \n",
       "0    0.00293   0.035156        0.0        0.0   0.004883        0.0   0.025391  \n",
       "\n",
       "[1 rows x 192 columns]"
      ]
     },
     "execution_count": 4,
     "metadata": {},
     "output_type": "execute_result"
    }
   ],
   "source": [
    "X_train.head(1)"
   ]
  },
  {
   "cell_type": "code",
   "execution_count": 5,
   "metadata": {},
   "outputs": [],
   "source": [
    "model = TimeExplorer()"
   ]
  },
  {
   "cell_type": "code",
   "execution_count": 6,
   "metadata": {},
   "outputs": [],
   "source": [
    "dc = model.run(X_train)"
   ]
  },
  {
   "cell_type": "code",
   "execution_count": 8,
   "metadata": {},
   "outputs": [
    {
     "data": {
      "text/html": [
       "<div>\n",
       "<style scoped>\n",
       "    .dataframe tbody tr th:only-of-type {\n",
       "        vertical-align: middle;\n",
       "    }\n",
       "\n",
       "    .dataframe tbody tr th {\n",
       "        vertical-align: top;\n",
       "    }\n",
       "\n",
       "    .dataframe thead th {\n",
       "        text-align: right;\n",
       "    }\n",
       "</style>\n",
       "<table border=\"1\" class=\"dataframe\">\n",
       "  <thead>\n",
       "    <tr style=\"text-align: right;\">\n",
       "      <th></th>\n",
       "      <th>mean</th>\n",
       "      <th>std</th>\n",
       "      <th>diff_mean_increase</th>\n",
       "      <th>diff_mean_decrease</th>\n",
       "      <th>diff_max_increase</th>\n",
       "      <th>diff_max_decrease</th>\n",
       "      <th>diff_std</th>\n",
       "      <th>max_mountain</th>\n",
       "      <th>max_valley</th>\n",
       "    </tr>\n",
       "  </thead>\n",
       "  <tbody>\n",
       "    <tr>\n",
       "      <th>0</th>\n",
       "      <td>0.010571</td>\n",
       "      <td>0.014837</td>\n",
       "      <td>0.011669</td>\n",
       "      <td>-0.013459</td>\n",
       "      <td>0.054688</td>\n",
       "      <td>-1.390000e-06</td>\n",
       "      <td>0.019517</td>\n",
       "      <td>0.095703</td>\n",
       "      <td>0.102540</td>\n",
       "    </tr>\n",
       "    <tr>\n",
       "      <th>1</th>\n",
       "      <td>0.010614</td>\n",
       "      <td>0.016799</td>\n",
       "      <td>0.011478</td>\n",
       "      <td>-0.013246</td>\n",
       "      <td>0.099607</td>\n",
       "      <td>-7.800000e-07</td>\n",
       "      <td>0.021973</td>\n",
       "      <td>0.158201</td>\n",
       "      <td>0.161130</td>\n",
       "    </tr>\n",
       "    <tr>\n",
       "      <th>2</th>\n",
       "      <td>0.010657</td>\n",
       "      <td>0.021925</td>\n",
       "      <td>0.013674</td>\n",
       "      <td>-0.016380</td>\n",
       "      <td>0.154300</td>\n",
       "      <td>-5.620000e-06</td>\n",
       "      <td>0.031203</td>\n",
       "      <td>0.159182</td>\n",
       "      <td>0.189451</td>\n",
       "    </tr>\n",
       "    <tr>\n",
       "      <th>3</th>\n",
       "      <td>0.010565</td>\n",
       "      <td>0.020091</td>\n",
       "      <td>0.012254</td>\n",
       "      <td>-0.014099</td>\n",
       "      <td>0.110348</td>\n",
       "      <td>-1.000000e-07</td>\n",
       "      <td>0.025850</td>\n",
       "      <td>0.207028</td>\n",
       "      <td>0.205075</td>\n",
       "    </tr>\n",
       "    <tr>\n",
       "      <th>4</th>\n",
       "      <td>0.010659</td>\n",
       "      <td>0.020454</td>\n",
       "      <td>0.011502</td>\n",
       "      <td>-0.015986</td>\n",
       "      <td>0.110350</td>\n",
       "      <td>-2.390000e-06</td>\n",
       "      <td>0.027089</td>\n",
       "      <td>0.167966</td>\n",
       "      <td>0.146482</td>\n",
       "    </tr>\n",
       "  </tbody>\n",
       "</table>\n",
       "</div>"
      ],
      "text/plain": [
       "       mean       std  diff_mean_increase  diff_mean_decrease  \\\n",
       "0  0.010571  0.014837            0.011669           -0.013459   \n",
       "1  0.010614  0.016799            0.011478           -0.013246   \n",
       "2  0.010657  0.021925            0.013674           -0.016380   \n",
       "3  0.010565  0.020091            0.012254           -0.014099   \n",
       "4  0.010659  0.020454            0.011502           -0.015986   \n",
       "\n",
       "   diff_max_increase  diff_max_decrease  diff_std  max_mountain  max_valley  \n",
       "0           0.054688      -1.390000e-06  0.019517      0.095703    0.102540  \n",
       "1           0.099607      -7.800000e-07  0.021973      0.158201    0.161130  \n",
       "2           0.154300      -5.620000e-06  0.031203      0.159182    0.189451  \n",
       "3           0.110348      -1.000000e-07  0.025850      0.207028    0.205075  \n",
       "4           0.110350      -2.390000e-06  0.027089      0.167966    0.146482  "
      ]
     },
     "execution_count": 8,
     "metadata": {},
     "output_type": "execute_result"
    }
   ],
   "source": [
    "dc.head()"
   ]
  }
 ],
 "metadata": {
  "kernelspec": {
   "display_name": "Python 3",
   "language": "python",
   "name": "python3"
  },
  "language_info": {
   "codemirror_mode": {
    "name": "ipython",
    "version": 3
   },
   "file_extension": ".py",
   "mimetype": "text/x-python",
   "name": "python",
   "nbconvert_exporter": "python",
   "pygments_lexer": "ipython3",
   "version": "3.7.1"
  }
 },
 "nbformat": 4,
 "nbformat_minor": 2
}
